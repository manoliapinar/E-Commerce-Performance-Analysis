{
  "nbformat": 4,
  "nbformat_minor": 0,
  "metadata": {
    "colab": {
      "provenance": [],
      "authorship_tag": "ABX9TyNsHa5Hwla8XG3XYiTcNE9W",
      "include_colab_link": true
    },
    "kernelspec": {
      "name": "python3",
      "display_name": "Python 3"
    },
    "language_info": {
      "name": "python"
    }
  },
  "cells": [
    {
      "cell_type": "markdown",
      "metadata": {
        "id": "view-in-github",
        "colab_type": "text"
      },
      "source": [
        "<a href=\"https://colab.research.google.com/github/manoliapinar/E-Commerce-Performance-Analysis/blob/main/01_Data_cleaning.ipynb\" target=\"_parent\"><img src=\"https://colab.research.google.com/assets/colab-badge.svg\" alt=\"Open In Colab\"/></a>"
      ]
    },
    {
      "cell_type": "code",
      "execution_count": 1,
      "metadata": {
        "id": "-l4bfSyEWEvu"
      },
      "outputs": [],
      "source": [
        "import pandas as pd\n",
        "from sklearn.preprocessing import MinMaxScaler"
      ]
    },
    {
      "cell_type": "code",
      "source": [
        "from google.colab import drive\n",
        "drive.mount('/content/drive')\n",
        "ecommerce_data = pd.read_csv('/content/drive/My Drive/e-commerce-performance-analysis/e-commerce_clickstream_transactions.csv')\n",
        "clickstream_data = pd.read_csv('/content/drive/My Drive/e-commerce-performance-analysis/e-commerce-dataset.csv')"
      ],
      "metadata": {
        "colab": {
          "base_uri": "https://localhost:8080/"
        },
        "id": "vKR8e4VYWHm8",
        "outputId": "b83586d4-f66f-43a2-d43a-98f846e7f6d7"
      },
      "execution_count": 3,
      "outputs": [
        {
          "output_type": "stream",
          "name": "stdout",
          "text": [
            "Drive already mounted at /content/drive; to attempt to forcibly remount, call drive.mount(\"/content/drive\", force_remount=True).\n"
          ]
        }
      ]
    },
    {
      "cell_type": "code",
      "source": [
        "print(clickstream_data.head())"
      ],
      "metadata": {
        "colab": {
          "base_uri": "https://localhost:8080/"
        },
        "id": "wCs3iDZfWjsF",
        "outputId": "6d2aa096-f3f6-4070-8ac4-dca3cfe0e529"
      },
      "execution_count": 9,
      "outputs": [
        {
          "output_type": "stream",
          "name": "stdout",
          "text": [
            "   Customer ID  Age  Gender Location  Annual Income  \\\n",
            "0         1001   25  Female   City D          45000   \n",
            "1         1001   28  Female   City D          52000   \n",
            "2         1001   28  Female   City D          65000   \n",
            "3         1001   45  Female   City D          70000   \n",
            "4         1002   34    Male   City E          45000   \n",
            "\n",
            "                                    Purchase History  \\\n",
            "0  [{\"Date\": \"2022-03-05\", \"Category\": \"Clothing\"...   \n",
            "1  [{\"Product Category\": \"Clothing\", \"Purchase Da...   \n",
            "2  [{\"Product Category\": \"Electronics\", \"Purchase...   \n",
            "3  {'Purchase Date': '2022-08-15', 'Product Categ...   \n",
            "4  {'Purchase Date': '2022-07-25', 'Product Categ...   \n",
            "\n",
            "                                    Browsing History  \\\n",
            "0  [{\"Timestamp\": \"2022-03-10T14:30:00Z\"}, {\"Time...   \n",
            "1  [{\"Product Category\": \"Home & Garden\", \"Timest...   \n",
            "2  [{\"Product Category\": \"Clothing\", \"Timestamp\":...   \n",
            "3               {'Timestamp': '2022-09-03 14:30:00'}   \n",
            "4               {'Timestamp': '2022-08-10 17:15:00'}   \n",
            "\n",
            "                                     Product Reviews  Time on Site  \n",
            "0  Great pair of jeans, very comfortable. Rating:...         32.50  \n",
            "1                            Great customer service!        123.45  \n",
            "2  Great electronics. The sound quality is excell...        125.60  \n",
            "3  {\"Product 1\": {\"Rating\": 4, \"Review\": \"Great e...        327.60  \n",
            "4  {\"Product 1\": {\"Rating\": 3, \"Review\": \"Good pr...        214.90  \n"
          ]
        }
      ]
    },
    {
      "cell_type": "code",
      "source": [
        "print(ecommerce_data.head())"
      ],
      "metadata": {
        "colab": {
          "base_uri": "https://localhost:8080/"
        },
        "id": "x5r-k3SsW25y",
        "outputId": "2e25f891-1967-49ea-999d-36640dfdb139"
      },
      "execution_count": 11,
      "outputs": [
        {
          "output_type": "stream",
          "name": "stdout",
          "text": [
            "   UserID  SessionID                   Timestamp     EventType  ProductID  \\\n",
            "0       1          1  2024-07-07 18:00:26.959902     page_view        NaN   \n",
            "1       1          1  2024-03-05 22:01:00.072000     page_view        NaN   \n",
            "2       1          1  2024-03-23 22:08:10.568453  product_view  prod_8199   \n",
            "3       1          1  2024-03-12 00:32:05.495638   add_to_cart  prod_4112   \n",
            "4       1          1  2024-02-25 22:43:01.318876   add_to_cart  prod_3354   \n",
            "\n",
            "   Amount Outcome  \n",
            "0     NaN     NaN  \n",
            "1     NaN     NaN  \n",
            "2     NaN     NaN  \n",
            "3     NaN     NaN  \n",
            "4     NaN     NaN  \n"
          ]
        }
      ]
    },
    {
      "cell_type": "code",
      "source": [
        "print(ecommerce_data.isnull().sum())"
      ],
      "metadata": {
        "colab": {
          "base_uri": "https://localhost:8080/"
        },
        "id": "MNjLWnpsXNKB",
        "outputId": "53137557-b428-4baa-9628-bc7e6d964a65"
      },
      "execution_count": 12,
      "outputs": [
        {
          "output_type": "stream",
          "name": "stdout",
          "text": [
            "UserID           0\n",
            "SessionID        0\n",
            "Timestamp        0\n",
            "EventType        0\n",
            "ProductID    42704\n",
            "Amount       64135\n",
            "Outcome      64135\n",
            "dtype: int64\n"
          ]
        }
      ]
    },
    {
      "cell_type": "code",
      "source": [
        "print(clickstream_data.isnull().sum())"
      ],
      "metadata": {
        "colab": {
          "base_uri": "https://localhost:8080/"
        },
        "id": "O9ApOBbIXQLT",
        "outputId": "004f410e-1c95-45a5-d089-117704f1d876"
      },
      "execution_count": 14,
      "outputs": [
        {
          "output_type": "stream",
          "name": "stdout",
          "text": [
            "Customer ID         0\n",
            "Age                 0\n",
            "Gender              0\n",
            "Location            0\n",
            "Annual Income       0\n",
            "Purchase History    0\n",
            "Browsing History    0\n",
            "Product Reviews     0\n",
            "Time on Site        0\n",
            "dtype: int64\n"
          ]
        }
      ]
    },
    {
      "cell_type": "code",
      "source": [
        "ecommerce_data.dropna(inplace=True)"
      ],
      "metadata": {
        "id": "b3q1Z2sOXRqP"
      },
      "execution_count": 15,
      "outputs": []
    },
    {
      "cell_type": "code",
      "source": [
        "print(ecommerce_data.duplicated().sum())"
      ],
      "metadata": {
        "colab": {
          "base_uri": "https://localhost:8080/"
        },
        "id": "u6-y4LUxXUPl",
        "outputId": "512edf82-bb51-4474-e794-3a1fd0120cbe"
      },
      "execution_count": 21,
      "outputs": [
        {
          "output_type": "stream",
          "name": "stdout",
          "text": [
            "0\n"
          ]
        }
      ]
    },
    {
      "cell_type": "code",
      "source": [
        "print(clickstream_data.duplicated().sum())"
      ],
      "metadata": {
        "colab": {
          "base_uri": "https://localhost:8080/"
        },
        "id": "iFLxLLfUXWWM",
        "outputId": "a20cb285-957c-4b3d-c414-7e8aa0f6d767"
      },
      "execution_count": 22,
      "outputs": [
        {
          "output_type": "stream",
          "name": "stdout",
          "text": [
            "0\n"
          ]
        }
      ]
    },
    {
      "cell_type": "code",
      "source": [
        "print(ecommerce_data.dtypes)"
      ],
      "metadata": {
        "colab": {
          "base_uri": "https://localhost:8080/"
        },
        "id": "xGxQi22jXx_G",
        "outputId": "07787450-2964-4665-c11a-29824be682a5"
      },
      "execution_count": 23,
      "outputs": [
        {
          "output_type": "stream",
          "name": "stdout",
          "text": [
            "UserID         int64\n",
            "SessionID      int64\n",
            "Timestamp     object\n",
            "EventType     object\n",
            "ProductID     object\n",
            "Amount       float64\n",
            "Outcome       object\n",
            "dtype: object\n"
          ]
        }
      ]
    },
    {
      "cell_type": "code",
      "source": [
        "print(clickstream_data.dtypes)"
      ],
      "metadata": {
        "colab": {
          "base_uri": "https://localhost:8080/"
        },
        "id": "pz3BF5a2X0qo",
        "outputId": "b242c07e-a8f6-4737-f598-772c239acbb4"
      },
      "execution_count": 24,
      "outputs": [
        {
          "output_type": "stream",
          "name": "stdout",
          "text": [
            "Customer ID           int64\n",
            "Age                   int64\n",
            "Gender               object\n",
            "Location             object\n",
            "Annual Income         int64\n",
            "Purchase History     object\n",
            "Browsing History     object\n",
            "Product Reviews      object\n",
            "Time on Site        float64\n",
            "dtype: object\n"
          ]
        }
      ]
    },
    {
      "cell_type": "code",
      "source": [
        "ecommerce_data.to_csv('/content/drive/My Drive/e-commerce-performance-analysis/cleaned_ecommerce_data.csv', index=False)"
      ],
      "metadata": {
        "id": "Amc8Ph1UX2JJ"
      },
      "execution_count": 27,
      "outputs": []
    },
    {
      "cell_type": "code",
      "source": [
        "clickstream_data.to_csv('/content/drive/My Drive/e-commerce-performance-analysis/cleaned_clickstream_data.csv', index=False)"
      ],
      "metadata": {
        "id": "t9Du0StdX5r6"
      },
      "execution_count": 28,
      "outputs": []
    }
  ]
}