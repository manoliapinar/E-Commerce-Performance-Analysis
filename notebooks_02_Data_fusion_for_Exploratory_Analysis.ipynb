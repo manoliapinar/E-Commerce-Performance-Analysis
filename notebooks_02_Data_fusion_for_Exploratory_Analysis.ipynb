{
  "nbformat": 4,
  "nbformat_minor": 0,
  "metadata": {
    "colab": {
      "provenance": [],
      "authorship_tag": "ABX9TyPacTFuQ+nxHwjowwDbOGzO",
      "include_colab_link": true
    },
    "kernelspec": {
      "name": "python3",
      "display_name": "Python 3"
    },
    "language_info": {
      "name": "python"
    }
  },
  "cells": [
    {
      "cell_type": "markdown",
      "metadata": {
        "id": "view-in-github",
        "colab_type": "text"
      },
      "source": [
        "<a href=\"https://colab.research.google.com/github/manoliapinar/E-Commerce-Performance-Analysis/blob/main/notebooks_02_Data_fusion_for_Exploratory_Analysis.ipynb\" target=\"_parent\"><img src=\"https://colab.research.google.com/assets/colab-badge.svg\" alt=\"Open In Colab\"/></a>"
      ]
    },
    {
      "cell_type": "code",
      "source": [
        "import pandas as pd"
      ],
      "metadata": {
        "id": "5hfvNlTxZPlG"
      },
      "execution_count": 10,
      "outputs": []
    },
    {
      "cell_type": "code",
      "source": [
        "from google.colab import drive\n",
        "drive.mount('/content/drive')\n",
        "ecommerce_data = pd.read_csv('/content/drive/My Drive/e-commerce-performance-analysis/e-commerce_clickstream_transactions.csv')\n",
        "clickstream_data = pd.read_csv('/content/drive/My Drive/e-commerce-performance-analysis/e-commerce-dataset.csv')"
      ],
      "metadata": {
        "colab": {
          "base_uri": "https://localhost:8080/"
        },
        "id": "qTSAXHluZbf8",
        "outputId": "7d1b4107-65bc-4d61-c241-2abbf95eea09"
      },
      "execution_count": 9,
      "outputs": [
        {
          "output_type": "stream",
          "name": "stdout",
          "text": [
            "Drive already mounted at /content/drive; to attempt to forcibly remount, call drive.mount(\"/content/drive\", force_remount=True).\n"
          ]
        }
      ]
    },
    {
      "cell_type": "code",
      "source": [
        "print(clickstream_data.columns)\n"
      ],
      "metadata": {
        "colab": {
          "base_uri": "https://localhost:8080/"
        },
        "id": "jb1KHfuGZzhY",
        "outputId": "d3c87c80-29e0-4976-e363-052ece37c46e"
      },
      "execution_count": 13,
      "outputs": [
        {
          "output_type": "stream",
          "name": "stdout",
          "text": [
            "Index(['Customer ID', 'Age', 'Gender', 'Location', 'Annual Income',\n",
            "       'Purchase History', 'Browsing History', 'Product Reviews',\n",
            "       'Time on Site'],\n",
            "      dtype='object')\n"
          ]
        }
      ]
    },
    {
      "cell_type": "code",
      "source": [
        "ecommerce_data.columns = ecommerce_data.columns.str.strip()\n",
        "clickstream_data.columns = clickstream_data.columns.str.strip()"
      ],
      "metadata": {
        "id": "JFYoPObIabM-"
      },
      "execution_count": 21,
      "outputs": []
    },
    {
      "cell_type": "code",
      "source": [
        "merged_data = pd.merge(ecommerce_data, clickstream_data, left_on='UserID', right_on='Customer ID', how='inner')"
      ],
      "metadata": {
        "id": "Rw0Y6MokZ8l2"
      },
      "execution_count": 16,
      "outputs": []
    },
    {
      "cell_type": "code",
      "source": [
        "merged_data = pd.merge(clickstream_data, ecommerce_data, left_on='Customer ID', right_on='UserID', how='inner')"
      ],
      "metadata": {
        "id": "gUYvCczzaDUi"
      },
      "execution_count": 18,
      "outputs": []
    },
    {
      "cell_type": "code",
      "source": [
        "print(merged_data.head())"
      ],
      "metadata": {
        "colab": {
          "base_uri": "https://localhost:8080/"
        },
        "id": "4Ll6yo4TaOB2",
        "outputId": "0c5212ac-5964-4395-e566-f1911fd32c17"
      },
      "execution_count": 22,
      "outputs": [
        {
          "output_type": "stream",
          "name": "stdout",
          "text": [
            "Empty DataFrame\n",
            "Columns: [Customer ID, Age, Gender, Location, Annual Income, Purchase History, Browsing History, Product Reviews, Time on Site, UserID, SessionID, Timestamp, EventType, ProductID, Amount, Outcome]\n",
            "Index: []\n"
          ]
        }
      ]
    },
    {
      "cell_type": "code",
      "source": [
        "print(clickstream_data.columns)\n"
      ],
      "metadata": {
        "colab": {
          "base_uri": "https://localhost:8080/"
        },
        "id": "zhZPS_eaamfr",
        "outputId": "67aabede-4df3-4c64-e9be-8659a96b2cb4"
      },
      "execution_count": 24,
      "outputs": [
        {
          "output_type": "stream",
          "name": "stdout",
          "text": [
            "Index(['Customer ID', 'Age', 'Gender', 'Location', 'Annual Income',\n",
            "       'Purchase History', 'Browsing History', 'Product Reviews',\n",
            "       'Time on Site'],\n",
            "      dtype='object')\n"
          ]
        }
      ]
    },
    {
      "cell_type": "code",
      "source": [
        "clickstream_data.columns = clickstream_data.columns.str.strip()\n",
        "ecommerce_data.columns = ecommerce_data.columns.str.strip()"
      ],
      "metadata": {
        "id": "zM4FCGZ1azsX"
      },
      "execution_count": 25,
      "outputs": []
    }
  ]
}